{
  "nbformat": 4,
  "nbformat_minor": 0,
  "metadata": {
    "colab": {
      "name": "Q1_1.ipynb",
      "provenance": [],
      "collapsed_sections": [],
      "authorship_tag": "ABX9TyMCbKtFECJcnw8lQYRmhcfd",
      "include_colab_link": true
    },
    "kernelspec": {
      "name": "python3",
      "display_name": "Python 3"
    }
  },
  "cells": [
    {
      "cell_type": "markdown",
      "metadata": {
        "id": "view-in-github",
        "colab_type": "text"
      },
      "source": [
        "<a href=\"https://colab.research.google.com/github/ktripat/demo-repo1/blob/main/Q1_1.ipynb\" target=\"_parent\"><img src=\"https://colab.research.google.com/assets/colab-badge.svg\" alt=\"Open In Colab\"/></a>"
      ]
    },
    {
      "cell_type": "markdown",
      "metadata": {
        "id": "mCFKQUVuaP0J"
      },
      "source": [
        "**Simulate a Nonlinear Function using tensorflow.keras**\r\n"
      ]
    },
    {
      "cell_type": "code",
      "metadata": {
        "id": "2UPjiyWQbQaY"
      },
      "source": [
        "import numpy as np\r\n",
        "import pandas as pd\r\n",
        "import tensorflow as tf \r\n",
        "from matplotlib import pyplot as plt\r\n",
        "import seaborn as sns\r\n",
        "sns.set()"
      ],
      "execution_count": 55,
      "outputs": []
    },
    {
      "cell_type": "markdown",
      "metadata": {
        "id": "N_4KMc_Jqcrz"
      },
      "source": [
        "The nonlinear function considered here : ***f(x)= exp(-x)***. [Exponential Distribution with a waiting parameter lambda =1]\r\n",
        "\r\n",
        "*   Input range of x: (0,10pi) for the training datasets \r\n",
        "\r\n",
        "Let's show the function using the scatter plot."
      ]
    },
    {
      "cell_type": "code",
      "metadata": {
        "colab": {
          "base_uri": "https://localhost:8080/",
          "height": 285
        },
        "id": "jZTwIzAwbw6T",
        "outputId": "cbad8ae2-0b1a-4cb9-9bf3-2c1b82f44689"
      },
      "source": [
        "x=np.linspace(0,5,100)\r\n",
        "y=np.exp(-x)\r\n",
        "plt.scatter(x,y)\r\n"
      ],
      "execution_count": 56,
      "outputs": [
        {
          "output_type": "execute_result",
          "data": {
            "text/plain": [
              "<matplotlib.collections.PathCollection at 0x7f35815aeba8>"
            ]
          },
          "metadata": {
            "tags": []
          },
          "execution_count": 56
        },
        {
          "output_type": "display_data",
          "data": {
            "image/png": "[encoded data removed]",
            "text/plain": [
              "<Figure size 432x288 with 1 Axes>"
            ]
          },
          "metadata": {
            "tags": []
          }
        }
      ]
    },
    {
      "cell_type": "markdown",
      "metadata": {
        "id": "QKxt3k_vWw9h"
      },
      "source": [
        "**Model #1 Shallow neural network**\r\n",
        "\r\n",
        "\r\n",
        "*   1 hidden layer with 128 hidden units\r\n",
        "*   Activation = ReLU\r\n",
        "*   Optimizer = Adam\r\n",
        "*   Mean Squared Error (MSE)\r\n",
        "\r\n",
        "Number of epochs = 100\r\n"
      ]
    },
    {
      "cell_type": "code",
      "metadata": {
        "colab": {
          "base_uri": "https://localhost:8080/",
          "height": 1000
        },
        "id": "PWKWR-o4McGX",
        "outputId": "1bc45457-89a3-426d-bf45-f35b2ade4b1e"
      },
      "source": [
        "model_shallow=tf.keras.models.Sequential([tf.keras.layers.Flatten(input_shape=(1,)),\r\n",
        "                                  tf.keras.layers.Dense(812,activation=tf.nn.relu),\r\n",
        "                                  tf.keras.layers.Dropout(0.2),\r\n",
        "                                  tf.keras.layers.Dense(1)])\r\n",
        "opt=tf.keras.optimizers.Adam(learning_rate=0.02)\r\n",
        "model_shallow.compile(optimizer=opt,loss='mse',metrics=['accuracy'])\r\n",
        "history_shallow=model_shallow.fit(x,y,epochs=100)\r\n",
        "model_shallow.summary()\r\n",
        "yp=model_shallow.predict(x)\r\n",
        "plt.scatter(x,y)\r\n",
        "plt.scatter(x,yp)"
      ],
      "execution_count": 57,
      "outputs": [
        {
          "output_type": "stream",
          "text": [
            "Epoch 1/100\n",
            "4/4 [==============================] - 0s 4ms/step - loss: 1.5538 - accuracy: 0.0000e+00\n",
            "Epoch 2/100\n",
            "4/4 [==============================] - 0s 3ms/step - loss: 1.3545 - accuracy: 0.0000e+00\n",
            "Epoch 3/100\n",
            "4/4 [==============================] - 0s 4ms/step - loss: 0.1129 - accuracy: 0.0000e+00\n",
            "Epoch 4/100\n",
            "4/4 [==============================] - 0s 3ms/step - loss: 0.1783 - accuracy: 0.0000e+00\n",
            "Epoch 5/100\n",
            "4/4 [==============================] - 0s 3ms/step - loss: 0.1247 - accuracy: 0.0000e+00\n",
            "Epoch 6/100\n",
            "4/4 [==============================] - 0s 3ms/step - loss: 0.0982 - accuracy: 0.0000e+00\n",
            "Epoch 7/100\n",
            "4/4 [==============================] - 0s 3ms/step - loss: 0.0888 - accuracy: 0.0000e+00\n",
            "Epoch 8/100\n",
            "4/4 [==============================] - 0s 3ms/step - loss: 0.0615 - accuracy: 0.0000e+00\n",
            "Epoch 9/100\n",
            "4/4 [==============================] - 0s 2ms/step - loss: 0.0618 - accuracy: 0.0000e+00\n",
            "Epoch 10/100\n",
            "4/4 [==============================] - 0s 3ms/step - loss: 0.0698 - accuracy: 0.0000e+00\n",
            "Epoch 11/100\n",
            "4/4 [==============================] - 0s 3ms/step - loss: 0.0659 - accuracy: 0.0000e+00\n",
            "Epoch 12/100\n",
            "4/4 [==============================] - 0s 3ms/step - loss: 0.0568 - accuracy: 0.0000e+00\n",
            "Epoch 13/100\n",
            "4/4 [==============================] - 0s 3ms/step - loss: 0.0594 - accuracy: 0.0000e+00\n",
            "Epoch 14/100\n",
            "4/4 [==============================] - 0s 3ms/step - loss: 0.0540 - accuracy: 0.0000e+00\n",
            "Epoch 15/100\n",
            "4/4 [==============================] - 0s 3ms/step - loss: 0.0530 - accuracy: 0.0000e+00\n",
            "Epoch 16/100\n",
            "4/4 [==============================] - 0s 3ms/step - loss: 0.0448 - accuracy: 0.0000e+00\n",
            "Epoch 17/100\n",
            "4/4 [==============================] - 0s 3ms/step - loss: 0.0353 - accuracy: 0.0000e+00\n",
            "Epoch 18/100\n",
            "4/4 [==============================] - 0s 3ms/step - loss: 0.0444 - accuracy: 0.0000e+00\n",
            "Epoch 19/100\n",
            "4/4 [==============================] - 0s 4ms/step - loss: 0.0294 - accuracy: 0.0000e+00\n",
            "Epoch 20/100\n",
            "4/4 [==============================] - 0s 3ms/step - loss: 0.0271 - accuracy: 0.0000e+00\n",
            "Epoch 21/100\n",
            "4/4 [==============================] - 0s 3ms/step - loss: 0.0332 - accuracy: 0.0000e+00\n",
            "Epoch 22/100\n",
            "4/4 [==============================] - 0s 3ms/step - loss: 0.0295 - accuracy: 0.0000e+00\n",
            "Epoch 23/100\n",
            "4/4 [==============================] - 0s 3ms/step - loss: 0.0311 - accuracy: 0.0000e+00\n",
            "Epoch 24/100\n",
            "4/4 [==============================] - 0s 4ms/step - loss: 0.0272 - accuracy: 0.0000e+00\n",
            "Epoch 25/100\n",
            "4/4 [==============================] - 0s 3ms/step - loss: 0.0227 - accuracy: 0.0000e+00\n",
            "Epoch 26/100\n",
            "4/4 [==============================] - 0s 4ms/step - loss: 0.0176 - accuracy: 0.0000e+00\n",
            "Epoch 27/100\n",
            "4/4 [==============================] - 0s 4ms/step - loss: 0.0209 - accuracy: 0.0000e+00\n",
            "Epoch 28/100\n",
            "4/4 [==============================] - 0s 4ms/step - loss: 0.0222 - accuracy: 0.0000e+00\n",
            "Epoch 29/100\n",
            "4/4 [==============================] - 0s 5ms/step - loss: 0.0206 - accuracy: 0.0000e+00\n",
            "Epoch 30/100\n",
            "4/4 [==============================] - 0s 3ms/step - loss: 0.0226 - accuracy: 0.0000e+00\n",
            "Epoch 31/100\n",
            "4/4 [==============================] - 0s 4ms/step - loss: 0.0191 - accuracy: 0.0061\n",
            "Epoch 32/100\n",
            "4/4 [==============================] - 0s 3ms/step - loss: 0.0184 - accuracy: 0.0092\n",
            "Epoch 33/100\n",
            "4/4 [==============================] - 0s 3ms/step - loss: 0.0185 - accuracy: 0.0061\n",
            "Epoch 34/100\n",
            "4/4 [==============================] - 0s 3ms/step - loss: 0.0199 - accuracy: 0.0061\n",
            "Epoch 35/100\n",
            "4/4 [==============================] - 0s 4ms/step - loss: 0.0199 - accuracy: 0.0061\n",
            "Epoch 36/100\n",
            "4/4 [==============================] - 0s 4ms/step - loss: 0.0177 - accuracy: 0.0061\n",
            "Epoch 37/100\n",
            "4/4 [==============================] - 0s 4ms/step - loss: 0.0193 - accuracy: 0.0155\n",
            "Epoch 38/100\n",
            "4/4 [==============================] - 0s 2ms/step - loss: 0.0165 - accuracy: 0.0061\n",
            "Epoch 39/100\n",
            "4/4 [==============================] - 0s 3ms/step - loss: 0.0212 - accuracy: 0.0061\n",
            "Epoch 40/100\n",
            "4/4 [==============================] - 0s 3ms/step - loss: 0.0172 - accuracy: 0.0061\n",
            "Epoch 41/100\n",
            "4/4 [==============================] - 0s 4ms/step - loss: 0.0169 - accuracy: 0.0155\n",
            "Epoch 42/100\n",
            "4/4 [==============================] - 0s 3ms/step - loss: 0.0167 - accuracy: 0.0061\n",
            "Epoch 43/100\n",
            "4/4 [==============================] - 0s 4ms/step - loss: 0.0175 - accuracy: 0.0155\n",
            "Epoch 44/100\n",
            "4/4 [==============================] - 0s 4ms/step - loss: 0.0173 - accuracy: 0.0061\n",
            "Epoch 45/100\n",
            "4/4 [==============================] - 0s 4ms/step - loss: 0.0195 - accuracy: 0.0155\n",
            "Epoch 46/100\n",
            "4/4 [==============================] - 0s 4ms/step - loss: 0.0179 - accuracy: 0.0155\n",
            "Epoch 47/100\n",
            "4/4 [==============================] - 0s 4ms/step - loss: 0.0134 - accuracy: 0.0061\n",
            "Epoch 48/100\n",
            "4/4 [==============================] - 0s 4ms/step - loss: 0.0147 - accuracy: 0.0061\n",
            "Epoch 49/100\n",
            "4/4 [==============================] - 0s 5ms/step - loss: 0.0142 - accuracy: 0.0061\n",
            "Epoch 50/100\n",
            "4/4 [==============================] - 0s 4ms/step - loss: 0.0171 - accuracy: 0.0092\n",
            "Epoch 51/100\n",
            "4/4 [==============================] - 0s 4ms/step - loss: 0.0155 - accuracy: 0.0061\n",
            "Epoch 52/100\n",
            "4/4 [==============================] - 0s 5ms/step - loss: 0.0175 - accuracy: 0.0155\n",
            "Epoch 53/100\n",
            "4/4 [==============================] - 0s 4ms/step - loss: 0.0138 - accuracy: 0.0061\n",
            "Epoch 54/100\n",
            "4/4 [==============================] - 0s 4ms/step - loss: 0.0153 - accuracy: 0.0155\n",
            "Epoch 55/100\n",
            "4/4 [==============================] - 0s 5ms/step - loss: 0.0127 - accuracy: 0.0061\n",
            "Epoch 56/100\n",
            "4/4 [==============================] - 0s 4ms/step - loss: 0.0112 - accuracy: 0.0092\n",
            "Epoch 57/100\n",
            "4/4 [==============================] - 0s 5ms/step - loss: 0.0117 - accuracy: 0.0155\n",
            "Epoch 58/100\n",
            "4/4 [==============================] - 0s 4ms/step - loss: 0.0103 - accuracy: 0.0155\n",
            "Epoch 59/100\n",
            "4/4 [==============================] - 0s 7ms/step - loss: 0.0142 - accuracy: 0.0155\n",
            "Epoch 60/100\n",
            "4/4 [==============================] - 0s 4ms/step - loss: 0.0104 - accuracy: 0.0061\n",
            "Epoch 61/100\n",
            "4/4 [==============================] - 0s 5ms/step - loss: 0.0098 - accuracy: 0.0092\n",
            "Epoch 62/100\n",
            "4/4 [==============================] - 0s 3ms/step - loss: 0.0098 - accuracy: 0.0155\n",
            "Epoch 63/100\n",
            "4/4 [==============================] - 0s 4ms/step - loss: 0.0096 - accuracy: 0.0092\n",
            "Epoch 64/100\n",
            "4/4 [==============================] - 0s 4ms/step - loss: 0.0082 - accuracy: 0.0092\n",
            "Epoch 65/100\n",
            "4/4 [==============================] - 0s 5ms/step - loss: 0.0092 - accuracy: 0.0155\n",
            "Epoch 66/100\n",
            "4/4 [==============================] - 0s 4ms/step - loss: 0.0057 - accuracy: 0.0040\n",
            "Epoch 67/100\n",
            "4/4 [==============================] - 0s 4ms/step - loss: 0.0079 - accuracy: 0.0092\n",
            "Epoch 68/100\n",
            "4/4 [==============================] - 0s 4ms/step - loss: 0.0078 - accuracy: 0.0155\n",
            "Epoch 69/100\n",
            "4/4 [==============================] - 0s 4ms/step - loss: 0.0071 - accuracy: 0.0155\n",
            "Epoch 70/100\n",
            "4/4 [==============================] - 0s 3ms/step - loss: 0.0045 - accuracy: 0.0155\n",
            "Epoch 71/100\n",
            "4/4 [==============================] - 0s 3ms/step - loss: 0.0084 - accuracy: 0.0155\n",
            "Epoch 72/100\n",
            "4/4 [==============================] - 0s 3ms/step - loss: 0.0049 - accuracy: 0.0092\n",
            "Epoch 73/100\n",
            "4/4 [==============================] - 0s 4ms/step - loss: 0.0054 - accuracy: 0.0061\n",
            "Epoch 74/100\n",
            "4/4 [==============================] - 0s 3ms/step - loss: 0.0052 - accuracy: 0.0092\n",
            "Epoch 75/100\n",
            "4/4 [==============================] - 0s 4ms/step - loss: 0.0067 - accuracy: 0.0092\n",
            "Epoch 76/100\n",
            "4/4 [==============================] - 0s 3ms/step - loss: 0.0047 - accuracy: 0.0155\n",
            "Epoch 77/100\n",
            "4/4 [==============================] - 0s 4ms/step - loss: 0.0044 - accuracy: 0.0155\n",
            "Epoch 78/100\n",
            "4/4 [==============================] - 0s 4ms/step - loss: 0.0034 - accuracy: 0.0061\n",
            "Epoch 79/100\n",
            "4/4 [==============================] - 0s 4ms/step - loss: 0.0069 - accuracy: 0.0092\n",
            "Epoch 80/100\n",
            "4/4 [==============================] - 0s 3ms/step - loss: 0.0030 - accuracy: 0.0040\n",
            "Epoch 81/100\n",
            "4/4 [==============================] - 0s 4ms/step - loss: 0.0044 - accuracy: 0.0155\n",
            "Epoch 82/100\n",
            "4/4 [==============================] - 0s 6ms/step - loss: 0.0022 - accuracy: 0.0155\n",
            "Epoch 83/100\n",
            "4/4 [==============================] - 0s 4ms/step - loss: 0.0035 - accuracy: 0.0155\n",
            "Epoch 84/100\n",
            "4/4 [==============================] - 0s 4ms/step - loss: 0.0023 - accuracy: 0.0061\n",
            "Epoch 85/100\n",
            "4/4 [==============================] - 0s 4ms/step - loss: 0.0027 - accuracy: 0.0061\n",
            "Epoch 86/100\n",
            "4/4 [==============================] - 0s 4ms/step - loss: 0.0055 - accuracy: 0.0155\n",
            "Epoch 87/100\n",
            "4/4 [==============================] - 0s 4ms/step - loss: 0.0044 - accuracy: 0.0092\n",
            "Epoch 88/100\n",
            "4/4 [==============================] - 0s 5ms/step - loss: 0.0021 - accuracy: 0.0061\n",
            "Epoch 89/100\n",
            "4/4 [==============================] - 0s 4ms/step - loss: 0.0028 - accuracy: 0.0155\n",
            "Epoch 90/100\n",
            "4/4 [==============================] - 0s 4ms/step - loss: 0.0033 - accuracy: 0.0155\n",
            "Epoch 91/100\n",
            "4/4 [==============================] - 0s 4ms/step - loss: 0.0023 - accuracy: 0.0040\n",
            "Epoch 92/100\n",
            "4/4 [==============================] - 0s 4ms/step - loss: 0.0020 - accuracy: 0.0155\n",
            "Epoch 93/100\n",
            "4/4 [==============================] - 0s 4ms/step - loss: 0.0024 - accuracy: 0.0155\n",
            "Epoch 94/100\n",
            "4/4 [==============================] - 0s 5ms/step - loss: 0.0028 - accuracy: 0.0092\n",
            "Epoch 95/100\n",
            "4/4 [==============================] - 0s 4ms/step - loss: 0.0021 - accuracy: 0.0155\n",
            "Epoch 96/100\n",
            "4/4 [==============================] - 0s 3ms/step - loss: 0.0026 - accuracy: 0.0061\n",
            "Epoch 97/100\n",
            "4/4 [==============================] - 0s 5ms/step - loss: 0.0019 - accuracy: 0.0092\n",
            "Epoch 98/100\n",
            "4/4 [==============================] - 0s 4ms/step - loss: 0.0024 - accuracy: 0.0092\n",
            "Epoch 99/100\n",
            "4/4 [==============================] - 0s 4ms/step - loss: 0.0023 - accuracy: 0.0061\n",
            "Epoch 100/100\n",
            "4/4 [==============================] - 0s 4ms/step - loss: 0.0021 - accuracy: 0.0155\n",
            "Model: \"sequential_16\"\n",
            "_________________________________________________________________\n",
            "Layer (type)                 Output Shape              Param #   \n",
            "=================================================================\n",
            "flatten_6 (Flatten)          (None, 1)                 0         \n",
            "_________________________________________________________________\n",
            "dense_64 (Dense)             (None, 812)               1624      \n",
            "_________________________________________________________________\n",
            "dropout_7 (Dropout)          (None, 812)               0         \n",
            "_________________________________________________________________\n",
            "dense_65 (Dense)             (None, 1)                 813       \n",
            "=================================================================\n",
            "Total params: 2,437\n",
            "Trainable params: 2,437\n",
            "Non-trainable params: 0\n",
            "_________________________________________________________________\n"
          ],
          "name": "stdout"
        },
        {
          "output_type": "execute_result",
          "data": {
            "text/plain": [
              "<matplotlib.collections.PathCollection at 0x7f3581572f28>"
            ]
          },
          "metadata": {
            "tags": []
          },
          "execution_count": 57
        },
        {
          "output_type": "display_data",
          "data": {
            "image/png": "[encoded data removed]",
            "text/plain": [
              "<Figure size 432x288 with 1 Axes>"
            ]
          },
          "metadata": {
            "tags": []
          }
        }
      ]
    },
    {
      "cell_type": "markdown",
      "metadata": {
        "id": "f-OoFSBcakJi"
      },
      "source": [
        "Total number of parameters in the neural network = 2437"
      ]
    },
    {
      "cell_type": "markdown",
      "metadata": {
        "id": "nO6Ka7s1r7_K"
      },
      "source": [
        "**Model #1 Shallow neural network (using one hidden layer)**"
      ]
    },
    {
      "cell_type": "code",
      "metadata": {
        "colab": {
          "base_uri": "https://localhost:8080/",
          "height": 285
        },
        "id": "0vpTXjWALycg",
        "outputId": "266d8ba3-e50f-4149-fee5-93721e3d4d50"
      },
      "source": [
        "## new testing data\r\n",
        "x_test=np.arange(2.2,4.6,0.1)\r\n",
        "y_test=model_shallow.predict(x_test)\r\n",
        "\r\n",
        "plt.scatter(x_test,np.exp(-x_test))\r\n",
        "plt.scatter(x_test,y_test)"
      ],
      "execution_count": 58,
      "outputs": [
        {
          "output_type": "execute_result",
          "data": {
            "text/plain": [
              "<matplotlib.collections.PathCollection at 0x7f358138df98>"
            ]
          },
          "metadata": {
            "tags": []
          },
          "execution_count": 58
        },
        {
          "output_type": "display_data",
          "data": {
            "image/png": "[encoded data removed]",
            "text/plain": [
              "<Figure size 432x288 with 1 Axes>"
            ]
          },
          "metadata": {
            "tags": []
          }
        }
      ]
    },
    {
      "cell_type": "markdown",
      "metadata": {
        "id": "DQD_6ZFhcba6"
      },
      "source": [
        "**Model #2 Deep neural network (using 3 hidden layers)**\r\n",
        "\r\n",
        "\r\n",
        "\r\n",
        "\r\n"
      ]
    },
    {
      "cell_type": "code",
      "metadata": {
        "colab": {
          "base_uri": "https://localhost:8080/"
        },
        "id": "Nm_gn-2XcOhq",
        "outputId": "56122de2-ca7b-461a-af82-1a474ceaa79c"
      },
      "source": [
        "model_deep=tf.keras.models.Sequential([#tf.keras.layers.Flatten(x),\r\n",
        "                                  tf.keras.layers.Dense(16,activation=tf.nn.relu),\r\n",
        "                                  tf.keras.layers.Dense(24,activation=tf.nn.relu),\r\n",
        "                                  tf.keras.layers.Dense(32,activation=tf.nn.relu),\r\n",
        "                                  tf.keras.layers.Dense(24,activation=tf.nn.relu),\r\n",
        "                                  tf.keras.layers.Dense(16,activation=tf.nn.relu),\r\n",
        "                                  tf.keras.layers.Dense(1)])\r\n",
        "opt = tf.keras.optimizers.Adam(learning_rate=0.02)\r\n",
        "model_deep.compile(optimizer=opt,loss='mse',metrics=['accuracy'])\r\n",
        "history_deep=model_deep.fit(x,y,epochs=100)\r\n",
        "model_deep.summary()"
      ],
      "execution_count": 59,
      "outputs": [
        {
          "output_type": "stream",
          "text": [
            "Epoch 1/100\n",
            "4/4 [==============================] - 0s 3ms/step - loss: 0.1258 - accuracy: 0.0000e+00\n",
            "Epoch 2/100\n",
            "4/4 [==============================] - 0s 3ms/step - loss: 0.0761 - accuracy: 0.0000e+00\n",
            "Epoch 3/100\n",
            "4/4 [==============================] - 0s 3ms/step - loss: 0.0416 - accuracy: 0.0000e+00\n",
            "Epoch 4/100\n",
            "4/4 [==============================] - 0s 2ms/step - loss: 0.0188 - accuracy: 0.0092\n",
            "Epoch 5/100\n",
            "4/4 [==============================] - 0s 3ms/step - loss: 0.0057 - accuracy: 0.0155\n",
            "Epoch 6/100\n",
            "4/4 [==============================] - 0s 3ms/step - loss: 0.0043 - accuracy: 0.0092\n",
            "Epoch 7/100\n",
            "4/4 [==============================] - 0s 3ms/step - loss: 0.0084 - accuracy: 0.0155\n",
            "Epoch 8/100\n",
            "4/4 [==============================] - 0s 3ms/step - loss: 0.0028 - accuracy: 0.0092\n",
            "Epoch 9/100\n",
            "4/4 [==============================] - 0s 2ms/step - loss: 0.0020 - accuracy: 0.0155\n",
            "Epoch 10/100\n",
            "4/4 [==============================] - 0s 2ms/step - loss: 0.0011 - accuracy: 0.0061\n",
            "Epoch 11/100\n",
            "4/4 [==============================] - 0s 2ms/step - loss: 4.8817e-04 - accuracy: 0.0092\n",
            "Epoch 12/100\n",
            "4/4 [==============================] - 0s 3ms/step - loss: 5.3422e-04 - accuracy: 0.0092\n",
            "Epoch 13/100\n",
            "4/4 [==============================] - 0s 2ms/step - loss: 0.0016 - accuracy: 0.0061    \n",
            "Epoch 14/100\n",
            "4/4 [==============================] - 0s 3ms/step - loss: 0.0033 - accuracy: 0.0061\n",
            "Epoch 15/100\n",
            "4/4 [==============================] - 0s 3ms/step - loss: 0.0025 - accuracy: 0.0061\n",
            "Epoch 16/100\n",
            "4/4 [==============================] - 0s 3ms/step - loss: 0.0021 - accuracy: 0.0155\n",
            "Epoch 17/100\n",
            "4/4 [==============================] - 0s 3ms/step - loss: 4.5665e-04 - accuracy: 0.0155\n",
            "Epoch 18/100\n",
            "4/4 [==============================] - 0s 5ms/step - loss: 7.0791e-04 - accuracy: 0.0061\n",
            "Epoch 19/100\n",
            "4/4 [==============================] - 0s 4ms/step - loss: 5.7744e-04 - accuracy: 0.0155\n",
            "Epoch 20/100\n",
            "4/4 [==============================] - 0s 3ms/step - loss: 7.4198e-04 - accuracy: 0.0061\n",
            "Epoch 21/100\n",
            "4/4 [==============================] - 0s 3ms/step - loss: 4.5081e-04 - accuracy: 0.0092\n",
            "Epoch 22/100\n",
            "4/4 [==============================] - 0s 3ms/step - loss: 2.7808e-04 - accuracy: 0.0092\n",
            "Epoch 23/100\n",
            "4/4 [==============================] - 0s 3ms/step - loss: 3.3716e-04 - accuracy: 0.0061\n",
            "Epoch 24/100\n",
            "4/4 [==============================] - 0s 3ms/step - loss: 5.6768e-04 - accuracy: 0.0155\n",
            "Epoch 25/100\n",
            "4/4 [==============================] - 0s 5ms/step - loss: 5.8218e-04 - accuracy: 0.0155\n",
            "Epoch 26/100\n",
            "4/4 [==============================] - 0s 4ms/step - loss: 5.0986e-04 - accuracy: 0.0155\n",
            "Epoch 27/100\n",
            "4/4 [==============================] - 0s 3ms/step - loss: 3.1680e-04 - accuracy: 0.0092\n",
            "Epoch 28/100\n",
            "4/4 [==============================] - 0s 3ms/step - loss: 4.9419e-04 - accuracy: 0.0061\n",
            "Epoch 29/100\n",
            "4/4 [==============================] - 0s 4ms/step - loss: 4.3890e-04 - accuracy: 0.0092\n",
            "Epoch 30/100\n",
            "4/4 [==============================] - 0s 3ms/step - loss: 2.1029e-04 - accuracy: 0.0092\n",
            "Epoch 31/100\n",
            "4/4 [==============================] - 0s 3ms/step - loss: 2.5562e-04 - accuracy: 0.0061\n",
            "Epoch 32/100\n",
            "4/4 [==============================] - 0s 5ms/step - loss: 2.7774e-04 - accuracy: 0.0061\n",
            "Epoch 33/100\n",
            "4/4 [==============================] - 0s 4ms/step - loss: 2.2150e-04 - accuracy: 0.0040\n",
            "Epoch 34/100\n",
            "4/4 [==============================] - 0s 4ms/step - loss: 9.5336e-05 - accuracy: 0.0061\n",
            "Epoch 35/100\n",
            "4/4 [==============================] - 0s 4ms/step - loss: 2.4384e-04 - accuracy: 0.0061\n",
            "Epoch 36/100\n",
            "4/4 [==============================] - 0s 3ms/step - loss: 1.5630e-04 - accuracy: 0.0092\n",
            "Epoch 37/100\n",
            "4/4 [==============================] - 0s 3ms/step - loss: 1.1503e-04 - accuracy: 0.0155\n",
            "Epoch 38/100\n",
            "4/4 [==============================] - 0s 5ms/step - loss: 3.0802e-04 - accuracy: 0.0061\n",
            "Epoch 39/100\n",
            "4/4 [==============================] - 0s 3ms/step - loss: 1.6422e-04 - accuracy: 0.0092\n",
            "Epoch 40/100\n",
            "4/4 [==============================] - 0s 3ms/step - loss: 1.3432e-04 - accuracy: 0.0092\n",
            "Epoch 41/100\n",
            "4/4 [==============================] - 0s 3ms/step - loss: 7.5902e-05 - accuracy: 0.0155\n",
            "Epoch 42/100\n",
            "4/4 [==============================] - 0s 3ms/step - loss: 7.8368e-05 - accuracy: 0.0155\n",
            "Epoch 43/100\n",
            "4/4 [==============================] - 0s 3ms/step - loss: 1.0113e-04 - accuracy: 0.0155\n",
            "Epoch 44/100\n",
            "4/4 [==============================] - 0s 3ms/step - loss: 1.1468e-04 - accuracy: 0.0040\n",
            "Epoch 45/100\n",
            "4/4 [==============================] - 0s 3ms/step - loss: 5.8850e-05 - accuracy: 0.0155\n",
            "Epoch 46/100\n",
            "4/4 [==============================] - 0s 3ms/step - loss: 5.3802e-05 - accuracy: 0.0092\n",
            "Epoch 47/100\n",
            "4/4 [==============================] - 0s 3ms/step - loss: 7.4336e-05 - accuracy: 0.0061\n",
            "Epoch 48/100\n",
            "4/4 [==============================] - 0s 4ms/step - loss: 5.4655e-05 - accuracy: 0.0155\n",
            "Epoch 49/100\n",
            "4/4 [==============================] - 0s 3ms/step - loss: 7.9205e-05 - accuracy: 0.0155\n",
            "Epoch 50/100\n",
            "4/4 [==============================] - 0s 3ms/step - loss: 3.3206e-05 - accuracy: 0.0040\n",
            "Epoch 51/100\n",
            "4/4 [==============================] - 0s 3ms/step - loss: 6.5087e-05 - accuracy: 0.0061\n",
            "Epoch 52/100\n",
            "4/4 [==============================] - 0s 6ms/step - loss: 4.6083e-05 - accuracy: 0.0061\n",
            "Epoch 53/100\n",
            "4/4 [==============================] - 0s 4ms/step - loss: 6.5744e-05 - accuracy: 0.0092\n",
            "Epoch 54/100\n",
            "4/4 [==============================] - 0s 6ms/step - loss: 8.9163e-05 - accuracy: 0.0092\n",
            "Epoch 55/100\n",
            "4/4 [==============================] - 0s 3ms/step - loss: 4.5643e-05 - accuracy: 0.0061\n",
            "Epoch 56/100\n",
            "4/4 [==============================] - 0s 4ms/step - loss: 3.4250e-05 - accuracy: 0.0061\n",
            "Epoch 57/100\n",
            "4/4 [==============================] - 0s 3ms/step - loss: 2.9324e-05 - accuracy: 0.0061\n",
            "Epoch 58/100\n",
            "4/4 [==============================] - 0s 3ms/step - loss: 3.9651e-05 - accuracy: 0.0061\n",
            "Epoch 59/100\n",
            "4/4 [==============================] - 0s 3ms/step - loss: 5.2658e-05 - accuracy: 0.0092\n",
            "Epoch 60/100\n",
            "4/4 [==============================] - 0s 3ms/step - loss: 5.6077e-05 - accuracy: 0.0061\n",
            "Epoch 61/100\n",
            "4/4 [==============================] - 0s 3ms/step - loss: 3.8660e-05 - accuracy: 0.0040\n",
            "Epoch 62/100\n",
            "4/4 [==============================] - 0s 4ms/step - loss: 4.5852e-05 - accuracy: 0.0155\n",
            "Epoch 63/100\n",
            "4/4 [==============================] - 0s 3ms/step - loss: 7.2443e-05 - accuracy: 0.0040\n",
            "Epoch 64/100\n",
            "4/4 [==============================] - 0s 3ms/step - loss: 3.9023e-05 - accuracy: 0.0155\n",
            "Epoch 65/100\n",
            "4/4 [==============================] - 0s 3ms/step - loss: 5.7397e-05 - accuracy: 0.0040\n",
            "Epoch 66/100\n",
            "4/4 [==============================] - 0s 3ms/step - loss: 8.3434e-05 - accuracy: 0.0061\n",
            "Epoch 67/100\n",
            "4/4 [==============================] - 0s 3ms/step - loss: 1.2909e-04 - accuracy: 0.0155\n",
            "Epoch 68/100\n",
            "4/4 [==============================] - 0s 4ms/step - loss: 1.0332e-04 - accuracy: 0.0155\n",
            "Epoch 69/100\n",
            "4/4 [==============================] - 0s 5ms/step - loss: 6.1289e-05 - accuracy: 0.0092\n",
            "Epoch 70/100\n",
            "4/4 [==============================] - 0s 3ms/step - loss: 4.3431e-05 - accuracy: 0.0061\n",
            "Epoch 71/100\n",
            "4/4 [==============================] - 0s 4ms/step - loss: 4.0339e-05 - accuracy: 0.0061\n",
            "Epoch 72/100\n",
            "4/4 [==============================] - 0s 3ms/step - loss: 2.5418e-05 - accuracy: 0.0092\n",
            "Epoch 73/100\n",
            "4/4 [==============================] - 0s 4ms/step - loss: 4.2760e-05 - accuracy: 0.0155\n",
            "Epoch 74/100\n",
            "4/4 [==============================] - 0s 5ms/step - loss: 4.7611e-05 - accuracy: 0.0092\n",
            "Epoch 75/100\n",
            "4/4 [==============================] - 0s 3ms/step - loss: 1.0322e-04 - accuracy: 0.0040\n",
            "Epoch 76/100\n",
            "4/4 [==============================] - 0s 3ms/step - loss: 1.2844e-04 - accuracy: 0.0061\n",
            "Epoch 77/100\n",
            "4/4 [==============================] - 0s 3ms/step - loss: 1.9884e-04 - accuracy: 0.0155\n",
            "Epoch 78/100\n",
            "4/4 [==============================] - 0s 3ms/step - loss: 2.1752e-04 - accuracy: 0.0061\n",
            "Epoch 79/100\n",
            "4/4 [==============================] - 0s 3ms/step - loss: 9.8366e-05 - accuracy: 0.0155\n",
            "Epoch 80/100\n",
            "4/4 [==============================] - 0s 3ms/step - loss: 1.1789e-04 - accuracy: 0.0061\n",
            "Epoch 81/100\n",
            "4/4 [==============================] - 0s 4ms/step - loss: 9.5132e-05 - accuracy: 0.0092\n",
            "Epoch 82/100\n",
            "4/4 [==============================] - 0s 3ms/step - loss: 5.3873e-05 - accuracy: 0.0155\n",
            "Epoch 83/100\n",
            "4/4 [==============================] - 0s 3ms/step - loss: 5.6759e-05 - accuracy: 0.0155\n",
            "Epoch 84/100\n",
            "4/4 [==============================] - 0s 3ms/step - loss: 4.9349e-05 - accuracy: 0.0061\n",
            "Epoch 85/100\n",
            "4/4 [==============================] - 0s 3ms/step - loss: 3.2832e-05 - accuracy: 0.0061\n",
            "Epoch 86/100\n",
            "4/4 [==============================] - 0s 3ms/step - loss: 2.8563e-05 - accuracy: 0.0092\n",
            "Epoch 87/100\n",
            "4/4 [==============================] - 0s 3ms/step - loss: 4.5493e-05 - accuracy: 0.0061\n",
            "Epoch 88/100\n",
            "4/4 [==============================] - 0s 3ms/step - loss: 7.1637e-05 - accuracy: 0.0092\n",
            "Epoch 89/100\n",
            "4/4 [==============================] - 0s 3ms/step - loss: 8.1029e-05 - accuracy: 0.0061\n",
            "Epoch 90/100\n",
            "4/4 [==============================] - 0s 3ms/step - loss: 4.0562e-05 - accuracy: 0.0155\n",
            "Epoch 91/100\n",
            "4/4 [==============================] - 0s 3ms/step - loss: 4.2866e-05 - accuracy: 0.0061\n",
            "Epoch 92/100\n",
            "4/4 [==============================] - 0s 3ms/step - loss: 3.7037e-05 - accuracy: 0.0092\n",
            "Epoch 93/100\n",
            "4/4 [==============================] - 0s 3ms/step - loss: 2.2416e-05 - accuracy: 0.0155\n",
            "Epoch 94/100\n",
            "4/4 [==============================] - 0s 3ms/step - loss: 2.5804e-05 - accuracy: 0.0092\n",
            "Epoch 95/100\n",
            "4/4 [==============================] - 0s 3ms/step - loss: 2.0533e-05 - accuracy: 0.0061\n",
            "Epoch 96/100\n",
            "4/4 [==============================] - 0s 3ms/step - loss: 1.8877e-05 - accuracy: 0.0061\n",
            "Epoch 97/100\n",
            "4/4 [==============================] - 0s 3ms/step - loss: 3.1640e-05 - accuracy: 0.0155\n",
            "Epoch 98/100\n",
            "4/4 [==============================] - 0s 3ms/step - loss: 5.3799e-05 - accuracy: 0.0155\n",
            "Epoch 99/100\n",
            "4/4 [==============================] - 0s 3ms/step - loss: 4.6236e-05 - accuracy: 0.0061\n",
            "Epoch 100/100\n",
            "4/4 [==============================] - 0s 3ms/step - loss: 4.3525e-05 - accuracy: 0.0155\n",
            "Model: \"sequential_17\"\n",
            "_________________________________________________________________\n",
            "Layer (type)                 Output Shape              Param #   \n",
            "=================================================================\n",
            "dense_66 (Dense)             (None, 16)                32        \n",
            "_________________________________________________________________\n",
            "dense_67 (Dense)             (None, 24)                408       \n",
            "_________________________________________________________________\n",
            "dense_68 (Dense)             (None, 32)                800       \n",
            "_________________________________________________________________\n",
            "dense_69 (Dense)             (None, 24)                792       \n",
            "_________________________________________________________________\n",
            "dense_70 (Dense)             (None, 16)                400       \n",
            "_________________________________________________________________\n",
            "dense_71 (Dense)             (None, 1)                 17        \n",
            "=================================================================\n",
            "Total params: 2,449\n",
            "Trainable params: 2,449\n",
            "Non-trainable params: 0\n",
            "_________________________________________________________________\n"
          ],
          "name": "stdout"
        }
      ]
    },
    {
      "cell_type": "code",
      "metadata": {
        "colab": {
          "base_uri": "https://localhost:8080/",
          "height": 339
        },
        "id": "ghyuuq0-RqY5",
        "outputId": "63149afe-9f45-4c3b-d4b8-5acebb798846"
      },
      "source": [
        "x_test=np.arange(2.2,4.6,0.1)\r\n",
        "y_test=model_deep.predict(x_test)\r\n",
        "model_deep.evaluate(x_test,y_test)\r\n",
        "plt.scatter(x_test,np.exp(-x_test))\r\n",
        "plt.scatter(x_test,y_test)\r\n"
      ],
      "execution_count": 60,
      "outputs": [
        {
          "output_type": "stream",
          "text": [
            "WARNING:tensorflow:5 out of the last 12 calls to <function Model.make_test_function.<locals>.test_function at 0x7f3581283ae8> triggered tf.function retracing. Tracing is expensive and the excessive number of tracings could be due to (1) creating @tf.function repeatedly in a loop, (2) passing tensors with different shapes, (3) passing Python objects instead of tensors. For (1), please define your @tf.function outside of the loop. For (2), @tf.function has experimental_relax_shapes=True option that relaxes argument shapes that can avoid unnecessary retracing. For (3), please refer to https://www.tensorflow.org/guide/function#controlling_retracing and https://www.tensorflow.org/api_docs/python/tf/function for  more details.\n",
            "1/1 [==============================] - 0s 113ms/step - loss: 0.0000e+00 - accuracy: 0.0000e+00\n"
          ],
          "name": "stdout"
        },
        {
          "output_type": "execute_result",
          "data": {
            "text/plain": [
              "<matplotlib.collections.PathCollection at 0x7f35811a2a90>"
            ]
          },
          "metadata": {
            "tags": []
          },
          "execution_count": 60
        },
        {
          "output_type": "display_data",
          "data": {
            "image/png": "[encoded data removed]",
            "text/plain": [
              "<Figure size 432x288 with 1 Axes>"
            ]
          },
          "metadata": {
            "tags": []
          }
        }
      ]
    },
    {
      "cell_type": "code",
      "metadata": {
        "id": "tqLiDCm5gfrW",
        "colab": {
          "base_uri": "https://localhost:8080/",
          "height": 481
        },
        "outputId": "5f7ea4e4-16ee-4ddb-cafc-378cfa1a07f9"
      },
      "source": [
        "plt.plot(history_deep.history['loss'])\r\n",
        "plt.title('Model loss')\r\n",
        "plt.ylabel('Loss')\r\n",
        "plt.xlabel('Epoch')\r\n",
        "plt.show()\r\n"
      ],
      "execution_count": 61,
      "outputs": [
        {
          "output_type": "error",
          "ename": "TypeError",
          "evalue": "ignored",
          "traceback": [
            "\u001b[0;31m---------------------------------------------------------------------------\u001b[0m",
            "\u001b[0;31mTypeError\u001b[0m                                 Traceback (most recent call last)",
            "\u001b[0;32m<ipython-input-61-4fcefda7f3b5>\u001b[0m in \u001b[0;36m<module>\u001b[0;34m()\u001b[0m\n\u001b[1;32m      2\u001b[0m \u001b[0mplt\u001b[0m\u001b[0;34m.\u001b[0m\u001b[0mtitle\u001b[0m\u001b[0;34m(\u001b[0m\u001b[0;34m'Model loss'\u001b[0m\u001b[0;34m)\u001b[0m\u001b[0;34m\u001b[0m\u001b[0;34m\u001b[0m\u001b[0m\n\u001b[1;32m      3\u001b[0m \u001b[0mplt\u001b[0m\u001b[0;34m.\u001b[0m\u001b[0mylabel\u001b[0m\u001b[0;34m(\u001b[0m\u001b[0;34m'Loss'\u001b[0m\u001b[0;34m)\u001b[0m\u001b[0;34m\u001b[0m\u001b[0;34m\u001b[0m\u001b[0m\n\u001b[0;32m----> 4\u001b[0;31m \u001b[0mplt\u001b[0m\u001b[0;34m.\u001b[0m\u001b[0mxlabel\u001b[0m\u001b[0;34m(\u001b[0m\u001b[0;34m'Epoch'\u001b[0m\u001b[0;34m)\u001b[0m\u001b[0;34m\u001b[0m\u001b[0;34m\u001b[0m\u001b[0m\n\u001b[0m\u001b[1;32m      5\u001b[0m \u001b[0mplt\u001b[0m\u001b[0;34m.\u001b[0m\u001b[0mshow\u001b[0m\u001b[0;34m(\u001b[0m\u001b[0;34m)\u001b[0m\u001b[0;34m\u001b[0m\u001b[0;34m\u001b[0m\u001b[0m\n",
            "\u001b[0;31mTypeError\u001b[0m: 'str' object is not callable"
          ]
        },
        {
          "output_type": "display_data",
          "data": {
            "image/png": "[encoded data removed]",
            "text/plain": [
              "<Figure size 432x288 with 1 Axes>"
            ]
          },
          "metadata": {
            "tags": []
          }
        }
      ]
    },
    {
      "cell_type": "code",
      "metadata": {
        "id": "Jk1ZRaf1cZfS"
      },
      "source": [
        "\r\n"
      ],
      "execution_count": 27,
      "outputs": []
    }
  ]
}